{
 "cells": [
  {
   "cell_type": "markdown",
   "id": "77c3afb5",
   "metadata": {},
   "source": [
    "# Semi-Greedy Construction\n",
    "\n",
    "Before we can implement a full GRASP for the TSP we need to understand semi-greedy construction. \n",
    "\n",
    "---\n",
    "> **Greedy construction**: we select a starting point in the tour and then choose the next closest citiy to travel to.  We continue to do this until all cities are visited.\n",
    ">> **Semi-Greedy construction**: we now incorporate probability in the greedy construction.  Instead of always visiting the closest city there is now a probability that we visit one of the **8** closest cities.\n",
    "\n",
    "So you can think of **semi-greedy** algorithms as a half way house between random and greedy search.\n",
    "\n",
    "---\n",
    "\n",
    "## Imports\n"
   ]
  },
  {
   "cell_type": "code",
   "execution_count": 9,
   "id": "d2ec4ace",
   "metadata": {},
   "outputs": [],
   "source": [
    "import numpy as np"
   ]
  },
  {
   "cell_type": "code",
   "execution_count": 17,
   "id": "5c94fb4a",
   "metadata": {},
   "outputs": [],
   "source": [
    "from metapy.tsp.euclidean import gen_matrix, plot_tour"
   ]
  },
  {
   "cell_type": "markdown",
   "id": "c397eac1",
   "metadata": {},
   "source": [
    "## Restricted Candidate Lists\n",
    "\n",
    "A key ingredient in semi-greedy construction is the **restricted candidate list**: the list of top valued components that the algorithm will choose from in its next step.  In the TSP a straightfoward implementation is choosing the closest **r** cities where r is a hyperparameter that can be fixed, a random variable or **learned** over time.\n",
    "\n",
    "Here we introduce two classes: `FixedRCLSizer` and `RandomRCLSizer` that provide a constant and probabilitically selected size of the RCL, repectively"
   ]
  },
  {
   "cell_type": "code",
   "execution_count": 2,
   "id": "1c0d9a6f",
   "metadata": {},
   "outputs": [],
   "source": [
    "class FixedRCLSizer:\n",
    "    '''\n",
    "    Fixed sized RCL list.\n",
    "    \n",
    "    When r = 1 then greedy\n",
    "    When r = len(tour) then random\n",
    "    '''\n",
    "    def __init__(self, r):\n",
    "        self.r = r\n",
    "        \n",
    "    def get_size(self):\n",
    "        '''\n",
    "        Returns an int representing the size of the required RCL\n",
    "        '''\n",
    "        return self.r"
   ]
  },
  {
   "cell_type": "code",
   "execution_count": 3,
   "id": "c8485df5",
   "metadata": {},
   "outputs": [],
   "source": [
    "class RandomRCLSizer:\n",
    "    '''\n",
    "    Probabilitic selection of the RCL size\n",
    "    Uniform probability.\n",
    "    '''\n",
    "    def __init__(self, r_list, random_seed=None):\n",
    "        self.r_list = r_list\n",
    "        self.rng = np.random.default_rng(random_seed)\n",
    "        \n",
    "    def get_size(self, size=None):\n",
    "        '''\n",
    "        Returns a randomly selected RCL size\n",
    "        '''\n",
    "        return self.rng.choice(self.r_list, size=size)"
   ]
  },
  {
   "cell_type": "markdown",
   "id": "97144512",
   "metadata": {},
   "source": [
    "## Semi-greedy implementation\n",
    "\n",
    "We are now ready to build a basic semi-greedy implementation.  "
   ]
  },
  {
   "cell_type": "code",
   "execution_count": 6,
   "id": "845d0bbf",
   "metadata": {},
   "outputs": [],
   "source": [
    "class SemiGreedyConstructor:\n",
    "    '''\n",
    "    Semi-greedy construction of a tour.\n",
    "    \n",
    "    For a city i creates a restricted candidate list of size r\n",
    "    i.e the r shortest distances from city i.  \n",
    "    Next city is chosen with equal probability.\n",
    "    Repeats until tour is constructed.\n",
    "    '''\n",
    "    def __init__(self, rcl_sizer, tour, matrix,\n",
    "                 random_seed=None):\n",
    "        '''\n",
    "        Constructor\n",
    "        \n",
    "        Params:\n",
    "        ------\n",
    "        rcl_sizer: object\n",
    "            sizes the restricted candidate list\n",
    "        \n",
    "        tour: np.ndarray\n",
    "            vector of city indexes included in problem\n",
    "            \n",
    "        matrix: np.ndarray\n",
    "            matrix of travel costs\n",
    "            \n",
    "        random_seed: int\n",
    "            used to control sampling and provides a\n",
    "            reproducible result.\n",
    "        '''\n",
    "        \n",
    "        # size of rcl\n",
    "        self.rcl_sizer = rcl_sizer\n",
    "        \n",
    "        # cities in a tour\n",
    "        self.tour = tour\n",
    "        \n",
    "        # travel cost matrix\n",
    "        self.matrix = matrix\n",
    "        \n",
    "        # create random number generator\n",
    "        self.rng = np.random.default_rng(random_seed)\n",
    "    \n",
    "    def build(self):\n",
    "        '''\n",
    "        Semi-greedy contruction of tour\n",
    "        \n",
    "        Returns:\n",
    "        --------\n",
    "        np.array\n",
    "        '''\n",
    "        # first city in tour\n",
    "        solution = np.array([self.tour[0]])    \n",
    "        \n",
    "        # it is an iterative (construction) procedure\n",
    "        for i in range(len(self.tour)-1):\n",
    "            # get the RCL size\n",
    "            r = self.rcl_sizer.get_size()\n",
    "            \n",
    "            # get the RCL\n",
    "            rcl = self.get_rcl(r, solution, solution[-1])\n",
    "            \n",
    "            # select the next city \n",
    "            next_city = self.random_from_rcl(rcl)\n",
    "            \n",
    "            # update the solution\n",
    "            solution = np.append(solution, np.array([next_city]))\n",
    "            \n",
    "        return solution\n",
    "    \n",
    "    def get_rcl(self, r, solution, from_city):\n",
    "        '''\n",
    "        Restricted candidate list for final city in current solution\n",
    "        \n",
    "        Params:\n",
    "        -------\n",
    "        solution: np.ndarray\n",
    "            vector of current partially constructed solution\n",
    "            \n",
    "        from_city: int\n",
    "            index of city used to construct rcl.\n",
    "        \n",
    "        Returns:\n",
    "        -------\n",
    "        np.array\n",
    "        '''\n",
    "        # get indexes of cities not in solution\n",
    "        mask = self.tour[~np.in1d(self.tour, solution)]\n",
    "        \n",
    "        # get indexes of r smallest travels costs \n",
    "        if mask.shape[0] > r:\n",
    "            # partition the vector for remaining cities - faster than sorting \n",
    "            idx = np.argpartition(self.matrix[from_city][mask], \n",
    "                                  len(mask) - r)[-r:]\n",
    "            rcl = mask[idx]\n",
    "        else:\n",
    "            # handle when r < n cities remaining \n",
    "            rcl = mask\n",
    "        return rcl\n",
    "    \n",
    "    def random_from_rcl(self, rcl):\n",
    "        '''\n",
    "        Select a city at random from rcl.\n",
    "        Return city index in self.matrix\n",
    "        \n",
    "        Params:\n",
    "        -------\n",
    "        rcl: np.ndarray\n",
    "            restricted candidate list\n",
    "            vector of candidate city indexes.\n",
    "        '''\n",
    "        return self.rng.choice(rcl)"
   ]
  },
  {
   "cell_type": "code",
   "execution_count": 10,
   "id": "54d2c326",
   "metadata": {},
   "outputs": [
    {
     "ename": "NameError",
     "evalue": "name 'matrix' is not defined",
     "output_type": "error",
     "traceback": [
      "\u001b[0;31m---------------------------------------------------------------------------\u001b[0m",
      "\u001b[0;31mNameError\u001b[0m                                 Traceback (most recent call last)",
      "\u001b[0;32m<ipython-input-10-63ecf57951e6>\u001b[0m in \u001b[0;36m<module>\u001b[0;34m\u001b[0m\n\u001b[1;32m      4\u001b[0m \u001b[0mtour\u001b[0m \u001b[0;34m=\u001b[0m \u001b[0mnp\u001b[0m\u001b[0;34m.\u001b[0m\u001b[0marange\u001b[0m\u001b[0;34m(\u001b[0m\u001b[0;36m70\u001b[0m\u001b[0;34m)\u001b[0m\u001b[0;34m\u001b[0m\u001b[0;34m\u001b[0m\u001b[0m\n\u001b[1;32m      5\u001b[0m \u001b[0msizer\u001b[0m \u001b[0;34m=\u001b[0m \u001b[0mFixedRCLSizer\u001b[0m\u001b[0;34m(\u001b[0m\u001b[0mr\u001b[0m\u001b[0;34m=\u001b[0m\u001b[0;36m2\u001b[0m\u001b[0;34m)\u001b[0m\u001b[0;34m\u001b[0m\u001b[0;34m\u001b[0m\u001b[0m\n\u001b[0;32m----> 6\u001b[0;31m \u001b[0mconstructor\u001b[0m \u001b[0;34m=\u001b[0m \u001b[0mSemiGreedyConstructor\u001b[0m\u001b[0;34m(\u001b[0m\u001b[0msizer\u001b[0m\u001b[0;34m,\u001b[0m \u001b[0mtour\u001b[0m\u001b[0;34m,\u001b[0m \u001b[0;34m-\u001b[0m\u001b[0mmatrix\u001b[0m\u001b[0;34m)\u001b[0m\u001b[0;34m\u001b[0m\u001b[0;34m\u001b[0m\u001b[0m\n\u001b[0m\u001b[1;32m      7\u001b[0m \u001b[0mconstructor\u001b[0m\u001b[0;34m.\u001b[0m\u001b[0mbuild\u001b[0m\u001b[0;34m(\u001b[0m\u001b[0;34m)\u001b[0m\u001b[0;34m\u001b[0m\u001b[0;34m\u001b[0m\u001b[0m\n",
      "\u001b[0;31mNameError\u001b[0m: name 'matrix' is not defined"
     ]
    }
   ],
   "source": [
    "# when r = 1 then greedy.  \n",
    "# when r = len(tour) then random solution\n",
    "\n",
    "tour = np.arange(70)\n",
    "sizer = FixedRCLSizer(r=2)\n",
    "constructor = SemiGreedyConstructor(sizer, tour, -matrix)\n",
    "constructor.build()"
   ]
  },
  {
   "cell_type": "code",
   "execution_count": null,
   "id": "e3b6710e",
   "metadata": {},
   "outputs": [],
   "source": [
    "# alternative setup with random sizer\n",
    "# pass RandomRCLSizer a list or np.array of ints of r.\n",
    "sizer = RandomRCLSizer(np.arange(1, 15))\n",
    "constructor = SemiGreedyConstructor(sizer, tour, -matrix)\n",
    "constructor.build()"
   ]
  }
 ],
 "metadata": {
  "kernelspec": {
   "display_name": "Python 3",
   "language": "python",
   "name": "python3"
  },
  "language_info": {
   "codemirror_mode": {
    "name": "ipython",
    "version": 3
   },
   "file_extension": ".py",
   "mimetype": "text/x-python",
   "name": "python",
   "nbconvert_exporter": "python",
   "pygments_lexer": "ipython3",
   "version": "3.8.8"
  }
 },
 "nbformat": 4,
 "nbformat_minor": 5
}
