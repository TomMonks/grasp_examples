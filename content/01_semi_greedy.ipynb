{
 "cells": [
  {
   "cell_type": "markdown",
   "id": "84d925db",
   "metadata": {},
   "source": [
    "# Semi-Greedy Construction\n",
    "\n",
    "Before we can implement a full GRASP for the TSP we need to understand semi-greedy construction. \n",
    "\n",
    "---\n",
    "> **Greedy construction**: we select a starting point in the tour and then choose the next closest citiy to travel to.  We continue to do this until all cities are visited.\n",
    ">> **Semi-Greedy construction**: we now incorporate probability in the greedy construction.  Instead of always visiting the closest city there is now a probability that we visit one of the **8** closest cities.\n",
    "\n",
    "So you can think of **semi-greedy** algorithms as a half way house between random and greedy search.\n",
    "\n",
    "---\n",
    "\n",
    "## Imports\n"
   ]
  },
  {
   "cell_type": "code",
   "execution_count": 1,
   "id": "0cb59a4b",
   "metadata": {},
   "outputs": [],
   "source": [
    "import numpy as np"
   ]
  },
  {
   "cell_type": "markdown",
   "id": "62974906",
   "metadata": {},
   "source": [
    "## `metapy` imports"
   ]
  },
  {
   "cell_type": "code",
   "execution_count": null,
   "id": "a48055b9",
   "metadata": {},
   "outputs": [],
   "source": [
    "# uncomment if you are running in Google colab\n",
    "# !pip install meta-py"
   ]
  },
  {
   "cell_type": "code",
   "execution_count": 2,
   "id": "c97316f4",
   "metadata": {},
   "outputs": [],
   "source": [
    "from metapy.tsp import tsp_io as io\n",
    "from metapy.tsp.euclidean import gen_matrix, plot_tour"
   ]
  },
  {
   "cell_type": "markdown",
   "id": "0833522c",
   "metadata": {},
   "source": [
    "## Restricted Candidate Lists\n",
    "\n",
    "A key ingredient in semi-greedy construction is the **restricted candidate list**: the list of top valued components that the algorithm will choose from in its next step.  In the TSP a straightfoward implementation is choosing the closest **r** cities where r is a hyperparameter that can be fixed, a random variable or **learned** over time.\n",
    "\n",
    "Here we introduce two classes: `FixedRCLSizer` and `RandomRCLSizer` that provide a constant and probabilitically selected size of the RCL, repectively"
   ]
  },
  {
   "cell_type": "code",
   "execution_count": 3,
   "id": "a9fa7db8",
   "metadata": {},
   "outputs": [],
   "source": [
    "class FixedRCLSizer:\n",
    "    '''\n",
    "    Fixed sized RCL list.\n",
    "    \n",
    "    When r = 1 then greedy\n",
    "    When r = len(tour) then random\n",
    "    '''\n",
    "    def __init__(self, r):\n",
    "        self.r = r\n",
    "        \n",
    "    def get_size(self):\n",
    "        '''\n",
    "        Returns an int representing the size of the required RCL\n",
    "        '''\n",
    "        return self.r"
   ]
  },
  {
   "cell_type": "code",
   "execution_count": 4,
   "id": "25728494",
   "metadata": {},
   "outputs": [],
   "source": [
    "class RandomRCLSizer:\n",
    "    '''\n",
    "    Probabilitic selection of the RCL size\n",
    "    Uniform probability.\n",
    "    '''\n",
    "    def __init__(self, r_list, random_seed=None):\n",
    "        self.r_list = r_list\n",
    "        self.rng = np.random.default_rng(random_seed)\n",
    "        \n",
    "    def get_size(self, size=None):\n",
    "        '''\n",
    "        Returns a randomly selected RCL size\n",
    "        '''\n",
    "        return self.rng.choice(self.r_list, size=size)"
   ]
  },
  {
   "cell_type": "markdown",
   "id": "7a008c61",
   "metadata": {},
   "source": [
    "## Semi-greedy implementation\n",
    "\n",
    "We are now ready to build a basic semi-greedy implementation.\n",
    "\n",
    "> A key point to remember is that construction is **iterative**. A new RCL is created in each iteration and a city is chosen from it at random until all cities have been added to the tour.\n",
    "\n",
    "Here we create a `SemiGreedyConstructor` class.  The class accepts a **rcl_sizer** as an argument (an object that implements a `get_size()` method).  This means you can vary the RCL sizing logic and treat it as a hyper parameter."
   ]
  },
  {
   "cell_type": "code",
   "execution_count": 5,
   "id": "d3cfe89b",
   "metadata": {},
   "outputs": [],
   "source": [
    "class SemiGreedyConstructor:\n",
    "    '''\n",
    "    Semi-greedy construction of a tour.\n",
    "    \n",
    "    For a city i creates a restricted candidate list of size r\n",
    "    i.e the r shortest distances from city i.  \n",
    "    Next city is chosen with equal probability.\n",
    "    Repeats until tour is constructed.\n",
    "    '''\n",
    "    def __init__(self, rcl_sizer, tour, matrix,\n",
    "                 random_seed=None):\n",
    "        '''\n",
    "        Constructor\n",
    "        \n",
    "        Params:\n",
    "        ------\n",
    "        rcl_sizer: object\n",
    "            sizes the restricted candidate list\n",
    "        \n",
    "        tour: np.ndarray\n",
    "            vector of city indexes included in problem\n",
    "            \n",
    "        matrix: np.ndarray\n",
    "            matrix of travel costs\n",
    "            \n",
    "        random_seed: int\n",
    "            used to control sampling and provides a\n",
    "            reproducible result.\n",
    "        '''\n",
    "        \n",
    "        # size of rcl\n",
    "        self.rcl_sizer = rcl_sizer\n",
    "        \n",
    "        # cities in a tour\n",
    "        self.tour = tour\n",
    "        \n",
    "        # travel cost matrix\n",
    "        self.matrix = matrix\n",
    "        \n",
    "        # create random number generator\n",
    "        self.rng = np.random.default_rng(random_seed)\n",
    "    \n",
    "    def build(self):\n",
    "        '''\n",
    "        Semi-greedy contruction of tour\n",
    "        \n",
    "        Returns:\n",
    "        --------\n",
    "        np.array\n",
    "        '''\n",
    "        # first city in tour\n",
    "        solution = np.array([self.tour[0]])    \n",
    "        \n",
    "        # it is an iterative (construction) procedure\n",
    "        for i in range(len(self.tour)-1):\n",
    "            # get the RCL size\n",
    "            r = self.rcl_sizer.get_size()\n",
    "            \n",
    "            # get the RCL\n",
    "            rcl = self.get_rcl(r, solution, solution[-1])\n",
    "            \n",
    "            # select the next city \n",
    "            next_city = self.random_from_rcl(rcl)\n",
    "            \n",
    "            # update the solution\n",
    "            solution = np.append(solution, np.array([next_city]))\n",
    "            \n",
    "        return solution\n",
    "    \n",
    "    def get_rcl(self, r, solution, from_city):\n",
    "        '''\n",
    "        Restricted candidate list for final city in current solution\n",
    "        \n",
    "        Params:\n",
    "        -------\n",
    "        solution: np.ndarray\n",
    "            vector of current partially constructed solution\n",
    "            \n",
    "        from_city: int\n",
    "            index of city used to construct rcl.\n",
    "        \n",
    "        Returns:\n",
    "        -------\n",
    "        np.array\n",
    "        '''\n",
    "        # get indexes of cities not in solution\n",
    "        mask = self.tour[~np.in1d(self.tour, solution)]\n",
    "        \n",
    "        # get indexes of r smallest travels costs \n",
    "        if mask.shape[0] > r:\n",
    "            # partition the vector for remaining cities - faster than sorting \n",
    "            idx = np.argpartition(self.matrix[from_city][mask], \n",
    "                                  len(mask) - r)[-r:]\n",
    "            rcl = mask[idx]\n",
    "        else:\n",
    "            # handle when r < n cities remaining \n",
    "            rcl = mask\n",
    "        return rcl\n",
    "    \n",
    "    def random_from_rcl(self, rcl):\n",
    "        '''\n",
    "        Select a city at random from rcl.\n",
    "        Return city index in self.matrix\n",
    "        \n",
    "        Params:\n",
    "        -------\n",
    "        rcl: np.ndarray\n",
    "            restricted candidate list\n",
    "            vector of candidate city indexes.\n",
    "        '''\n",
    "        return self.rng.choice(rcl)"
   ]
  },
  {
   "cell_type": "code",
   "execution_count": 6,
   "id": "67cb2ef7",
   "metadata": {},
   "outputs": [],
   "source": [
    "#load file\n",
    "file_path = 'https://raw.githubusercontent.com/TomMonks/meta-py/main/data/st70.tsp'\n",
    "\n",
    "#number of rows in the file that are meta_data\n",
    "md_rows = 6\n",
    "\n",
    "#read the coordinates\n",
    "cities = io.read_coordinates(file_path, md_rows)\n",
    "matrix = gen_matrix(cities, as_integer=True)"
   ]
  },
  {
   "cell_type": "code",
   "execution_count": 7,
   "id": "a6290b0f",
   "metadata": {},
   "outputs": [
    {
     "data": {
      "text/plain": [
       "array([ 0, 15, 46, 57, 36, 49,  9, 51,  4, 59, 11, 20, 33, 16, 40,  5, 41,\n",
       "       17,  3,  1,  6, 18, 25,  7, 27,  2, 13, 19, 43, 67, 29, 26, 39, 60,\n",
       "       44, 24, 45, 38,  8, 61, 32, 53, 66, 55, 64, 50, 47, 63, 10, 52, 21,\n",
       "       65, 62, 58, 37, 30, 68, 69, 28, 35, 12, 34, 56, 23, 14, 22, 31, 42,\n",
       "       54, 48])"
      ]
     },
     "execution_count": 7,
     "metadata": {},
     "output_type": "execute_result"
    }
   ],
   "source": [
    "# when r = 1 then greedy.  \n",
    "# when r = len(tour) then random solution\n",
    "\n",
    "tour = np.arange(70)\n",
    "sizer = FixedRCLSizer(r=2)\n",
    "constructor = SemiGreedyConstructor(sizer, tour, -matrix)\n",
    "constructor.build()"
   ]
  },
  {
   "cell_type": "code",
   "execution_count": 8,
   "id": "e646d621",
   "metadata": {},
   "outputs": [
    {
     "data": {
      "text/plain": [
       "array([ 0, 35, 15, 46, 37, 28, 30, 62, 21, 23,  1, 18, 25, 27,  7, 13, 67,\n",
       "       42, 40, 31, 43, 29, 17,  3, 58, 68, 14,  6, 48, 54, 16,  5,  9, 59,\n",
       "       10, 55, 49, 11, 33, 61, 53, 64, 50,  4, 52, 51,  8, 45, 41, 26, 38,\n",
       "       24,  2, 20, 57, 22, 36, 65, 56, 12, 32, 69, 44, 39, 34, 66, 63, 19,\n",
       "       47, 60])"
      ]
     },
     "execution_count": 8,
     "metadata": {},
     "output_type": "execute_result"
    }
   ],
   "source": [
    "# alternative setup with random sizer\n",
    "# pass RandomRCLSizer a list or np.array of ints of r.\n",
    "sizer = RandomRCLSizer(np.arange(1, 15))\n",
    "constructor = SemiGreedyConstructor(sizer, tour, -matrix)\n",
    "constructor.build()"
   ]
  }
 ],
 "metadata": {
  "kernelspec": {
   "display_name": "Python 3",
   "language": "python",
   "name": "python3"
  },
  "language_info": {
   "codemirror_mode": {
    "name": "ipython",
    "version": 3
   },
   "file_extension": ".py",
   "mimetype": "text/x-python",
   "name": "python",
   "nbconvert_exporter": "python",
   "pygments_lexer": "ipython3",
   "version": "3.8.8"
  }
 },
 "nbformat": 4,
 "nbformat_minor": 5
}
