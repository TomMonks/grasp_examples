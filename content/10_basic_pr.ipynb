{
 "cells": [
  {
   "cell_type": "markdown",
   "id": "8691dfde",
   "metadata": {},
   "source": [
    "# TSP Path Relinking\n",
    "\n",
    "This notebook contains a basic example of forward and backward **path relinking**.\n",
    "\n",
    "Let's take these two TSP solutions\n",
    "\n",
    "```python\n",
    "guiding = [1, 2, 3, 4, 5]\n",
    "current = [1, 3, 5, 2, 4]\n",
    "```\n",
    "\n",
    ">Question: What changes can we make to the `current` solution to `guiding` solution?\n",
    "> > Changes = simple tweaks: a swap of two city indexes.  For example, [1, 3, 5, 2, 4] => [1, 2, 5, 3, 4]\n",
    ">>> The choices we make to iteratively convert (link) `current` into `guiding` is the path we follow."
   ]
  },
  {
   "cell_type": "markdown",
   "id": "cd342694",
   "metadata": {},
   "source": [
    "## imports "
   ]
  },
  {
   "cell_type": "code",
   "execution_count": 1,
   "id": "cb44d619",
   "metadata": {},
   "outputs": [],
   "source": [
    "import numpy as np\n",
    "import sys"
   ]
  },
  {
   "cell_type": "markdown",
   "id": "33ee8b78",
   "metadata": {},
   "source": [
    "## `metapy` imports\n",
    "\n",
    "For this basic example we only need an to load the data and create an objective function to evaluate various example tours."
   ]
  },
  {
   "cell_type": "code",
   "execution_count": 2,
   "id": "c038f841",
   "metadata": {},
   "outputs": [],
   "source": [
    "# install metapy if running in Google Colab\n",
    "if 'google.colab' in sys.modules:\n",
    "    !pip install meta-py"
   ]
  },
  {
   "cell_type": "code",
   "execution_count": 3,
   "id": "fac06c22",
   "metadata": {},
   "outputs": [],
   "source": [
    "from metapy.tsp import tsp_io as io\n",
    "from metapy.tsp.euclidean import gen_matrix, plot_tour\n",
    "from metapy.tsp.objective import OptimisedSimpleTSPObjective"
   ]
  },
  {
   "cell_type": "markdown",
   "id": "ce141f18",
   "metadata": {},
   "source": [
    "## Load Problem"
   ]
  },
  {
   "cell_type": "code",
   "execution_count": 4,
   "id": "15aed919",
   "metadata": {},
   "outputs": [],
   "source": [
    "#load file\n",
    "file_path = 'https://raw.githubusercontent.com/TomMonks/meta-py/main/data/st70.tsp'\n",
    "\n",
    "#number of rows in the file that are meta_data\n",
    "md_rows = 6\n",
    "\n",
    "#read the coordinates\n",
    "cities = io.read_coordinates(file_path, md_rows)\n",
    "matrix = gen_matrix(cities, as_integer=True)"
   ]
  },
  {
   "cell_type": "markdown",
   "id": "6762484c",
   "metadata": {},
   "source": [
    "---\n",
    "\n",
    "### Making a single restricted neighbourhood move.\n",
    "\n",
    "The functions below provide basic logic for a single move in a path relinking neighbourhood."
   ]
  },
  {
   "cell_type": "code",
   "execution_count": 5,
   "id": "39aa8d17",
   "metadata": {},
   "outputs": [],
   "source": [
    "def evaluate_neighbour(from_city, current, guiding, obj):\n",
    "    '''\n",
    "    Performs a two city swap and returns the cost.\n",
    "    \n",
    "    Params:\n",
    "    ------\n",
    "    from_city: int\n",
    "        The city to swap\n",
    "        \n",
    "    current: np.ndarray\n",
    "        The current solution\n",
    "        \n",
    "    guiding: np.ndarray\n",
    "        The guiding solution\n",
    "        \n",
    "    obj: Object\n",
    "        The TSP objective function\n",
    "    '''\n",
    "    from_index = np.where(current==from_city)[0][0]\n",
    "    to_index = np.where(guiding==from_city)[0][0]\n",
    "    # swap and evaluate\n",
    "    current[from_index], current[to_index] = current[to_index], current[from_index]\n",
    "    cost= obj.evaluate(current)\n",
    "    print(current, cost)\n",
    "    \n",
    "    #swap back\n",
    "    current[from_index], current[to_index] = current[to_index], current[from_index]\n",
    "    return cost\n"
   ]
  },
  {
   "cell_type": "code",
   "execution_count": 6,
   "id": "d90f3d2e",
   "metadata": {},
   "outputs": [],
   "source": [
    "def next_restricted_neighbour_move(current, guiding, obj):\n",
    "    '''\n",
    "    Iteratively search through a restricted neighbourhood based \n",
    "    on the guiding solution and greedily selects the best move.\n",
    "    '''\n",
    "    # cities in the restricted neighbourhood\n",
    "    swaps = current[current != guiding]\n",
    "    costs = np.full(len(swaps), -np.inf)\n",
    "    i = 0\n",
    "    # is there a way to eliminate the python loop?\n",
    "    for from_city in swaps:\n",
    "        # evaluate all swaps in current restricted neighbourhood\n",
    "        print(f'move {i+1} ', end='=> ')\n",
    "        costs[i] = evaluate_neighbour(from_city, current, guiding, obj)\n",
    "        i += 1\n",
    "\n",
    "    best_index = np.argmax(costs)\n",
    "    from_city = swaps[best_index]\n",
    "    \n",
    "    # get index of cities in current and guiding solutions.\n",
    "    from_idx = np.where(current==from_city)[0][0]\n",
    "    to_idx = np.where(guiding==from_city)[0][0]\n",
    "    # swap and evaluate\n",
    "    current[from_idx], current[to_idx] = current[to_idx], current[from_idx]\n",
    "    return current, costs[best_index]"
   ]
  },
  {
   "cell_type": "code",
   "execution_count": 7,
   "id": "4ebc75bc",
   "metadata": {},
   "outputs": [],
   "source": [
    "def path_relinking(current, guiding, obj, trunc=None):\n",
    "    '''\n",
    "    Path relinking for basic symmetric TSP.\n",
    "    \n",
    "    To reverse the path relinking simply swap the current and guiding.\n",
    "    \n",
    "    Params:\n",
    "    ------\n",
    "    current: np.ndarray\n",
    "        the current solution that will iteratively be relinked to guiding\n",
    "        \n",
    "    guiding: np.ndarray\n",
    "        the guiding solution.\n",
    "        \n",
    "    obj: Object\n",
    "        TSP objective function\n",
    "        \n",
    "    trunc: int, optional (default = None)\n",
    "        Truncate the search after a number of steps\n",
    "    \n",
    "    '''\n",
    "    # moves to relink = n - 1: note we don't need to make the final one i.e n-2\n",
    "    n_moves = int(len(current[current != guiding]) / 2)\n",
    "    \n",
    "    # used to truncate path relinking\n",
    "    if trunc is not None:\n",
    "        if trunc > n_moves:\n",
    "            raise ValueError(f'@trunc must be <= moves to relink{n_moves}')\n",
    "        else:\n",
    "            n_moves = trunc\n",
    "        \n",
    "    costs = []\n",
    "    solutions = []\n",
    "    for i in range(n_moves):\n",
    "        print(f'#### MOVE {i+1}')\n",
    "        current, cost = next_restricted_neighbour_move(current.copy(), guiding, \n",
    "                                                       obj)\n",
    "        print(f'** Selected: {current}')\n",
    "        solutions.append(current)\n",
    "        costs.append(cost)\n",
    "    \n",
    "    # return best solution and cost\n",
    "    best_idx = np.array(costs).argmax()\n",
    "    return solutions[best_idx], costs[best_idx]"
   ]
  },
  {
   "cell_type": "markdown",
   "id": "2bc011aa",
   "metadata": {},
   "source": [
    "## Let's relink the current solution to the guiding.\n",
    "\n",
    "We will use **forward** path relinking where we move from the current solution to the guiding solution.\n",
    "\n",
    "> The opposite would be **backward** relinking where we swap the guiding and current solutions.  That may lead to a different path for relinking.  We also know that good solutions tend to be close together so we might **truncate** our search (partial relinking) in backward PR and save computational effort."
   ]
  },
  {
   "cell_type": "code",
   "execution_count": 8,
   "id": "0ac01f49",
   "metadata": {},
   "outputs": [
    {
     "name": "stdout",
     "output_type": "stream",
     "text": [
      "#### MOVE 1\n",
      "move 1 => [1 5 3 2 4] -147.0\n",
      "move 2 => [1 3 4 2 5] -138.0\n",
      "move 3 => [1 2 5 3 4] -134.0\n",
      "move 4 => [1 3 5 4 2] -117.0\n",
      "** Selected: [1 3 5 4 2]\n",
      "#### MOVE 2\n",
      "move 1 => [1 5 3 4 2] -139.0\n",
      "move 2 => [1 3 2 4 5] -125.0\n",
      "move 3 => [1 2 5 4 3] -112.0\n",
      "** Selected: [1 2 5 4 3]\n",
      "solution after forward PR [1 2 5 4 3]: -112.0\n"
     ]
    }
   ],
   "source": [
    "# script for forward path relinking\n",
    "obj = OptimisedSimpleTSPObjective(-matrix)\n",
    "guiding = np.array([1, 2, 3, 4, 5])\n",
    "current = np.array([1, 3, 5, 2, 4])\n",
    "solution, cost = path_relinking(current.copy(), guiding, obj)\n",
    "print(f'solution after forward PR {solution}: {cost}')"
   ]
  },
  {
   "cell_type": "code",
   "execution_count": 9,
   "id": "0eda835b",
   "metadata": {},
   "outputs": [
    {
     "name": "stdout",
     "output_type": "stream",
     "text": [
      "#### MOVE 1\n",
      "move 1 => [1 4 3 2 5] -142.0\n",
      "move 2 => [1 3 2 4 5] -125.0\n",
      "move 3 => [1 2 3 5 4] -121.0\n",
      "move 4 => [1 2 5 4 3] -112.0\n",
      "** Selected: [1 2 5 4 3]\n",
      "solution after truncated backward PR [1 2 5 4 3]: -112.0\n"
     ]
    }
   ],
   "source": [
    "# script for backward path relinking - swap current and guiding\n",
    "obj = OptimisedSimpleTSPObjective(-matrix)\n",
    "current = np.array([1, 2, 3, 4, 5])\n",
    "guiding = np.array([1, 3, 5, 2, 4])\n",
    "# also truncate the search\n",
    "solution, cost = path_relinking(current.copy(), guiding, obj, trunc=1)\n",
    "print(f'solution after truncated backward PR {solution}: {cost}')"
   ]
  }
 ],
 "metadata": {
  "kernelspec": {
   "display_name": "Python 3",
   "language": "python",
   "name": "python3"
  },
  "language_info": {
   "codemirror_mode": {
    "name": "ipython",
    "version": 3
   },
   "file_extension": ".py",
   "mimetype": "text/x-python",
   "name": "python",
   "nbconvert_exporter": "python",
   "pygments_lexer": "ipython3",
   "version": "3.8.8"
  }
 },
 "nbformat": 4,
 "nbformat_minor": 5
}
