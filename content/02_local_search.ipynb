{
 "cells": [
  {
   "cell_type": "markdown",
   "id": "0bf7e59f",
   "metadata": {},
   "source": [
    "# Local Search\n",
    "\n",
    "The second phase in GRASP involves local search.  This is an entire topic on its own!  Here we will keep things simple and look at basic local search using a **hill-climbing** approach\n",
    "\n",
    "Hill climbers are very simple algorithms that iteratively test neighbouring solutions to see if they find any improvement. This local search approach is often very successful at finding reasonably good solutions to a routing and scheduling problem. \n",
    "\n",
    "The major drawback is that hill climbers suffer from getting stuck in a **local optimum** and you can often do better by employing a more sophisticated algorithm.\n",
    "\n",
    "However, you might be surprised at how useful hill-climbers turn out to be when used in combination with other approaches in a multi-start algorithm like GRASP. One of the key benefits of hill climbers is that they are relatively fast (because they are simple). You can even set a time limit to get some of the benefit of local search without greatly extending the execution time of your algorithm.\n",
    "\n",
    "> Although this the approach is called Hill-Climbing in the TSP you are descending a hill to the find the shortest route. The algorithm is the same, but you are maximising -1*objective (or alternatively $\\dfrac{1}{objective}$).\n",
    "\n"
   ]
  },
  {
   "cell_type": "markdown",
   "id": "e8b94cbd",
   "metadata": {},
   "source": [
    "## Imports"
   ]
  },
  {
   "cell_type": "code",
   "execution_count": 14,
   "id": "1510afc6",
   "metadata": {},
   "outputs": [],
   "source": [
    "import numpy as np\n",
    "import matplotlib.pyplot as plt"
   ]
  },
  {
   "cell_type": "markdown",
   "id": "42a93af6",
   "metadata": {},
   "source": [
    "## `metapy` imports"
   ]
  },
  {
   "cell_type": "code",
   "execution_count": 11,
   "id": "5b3997b5",
   "metadata": {},
   "outputs": [],
   "source": [
    "from metapy.tsp import tsp_io as io\n",
    "from metapy.tsp.euclidean import gen_matrix, plot_tour\n",
    "\n",
    "from metapy.tsp.objective import OptimisedSimpleTSPObjective\n",
    "\n",
    "from metapy.local_search.hill_climbing import (HillClimber,\n",
    "                                               TweakTwoOpt, \n",
    "                                               SimpleTweak)"
   ]
  },
  {
   "cell_type": "markdown",
   "id": "078e00b4",
   "metadata": {},
   "source": [
    "## Load data and generate cost matrix"
   ]
  },
  {
   "cell_type": "code",
   "execution_count": 4,
   "id": "67037a52",
   "metadata": {},
   "outputs": [],
   "source": [
    "#load file\n",
    "file_path = 'https://raw.githubusercontent.com/TomMonks/meta-py/main/data/st70.tsp'\n",
    "\n",
    "#number of rows in the file that are meta_data\n",
    "md_rows = 6\n",
    "\n",
    "#read the coordinates\n",
    "cities = io.read_coordinates(file_path, md_rows)\n",
    "matrix = gen_matrix(cities, as_integer=True)"
   ]
  },
  {
   "cell_type": "markdown",
   "id": "60295349",
   "metadata": {},
   "source": [
    "## TWEAKS: Simple versus 2-Opt\n",
    "\n",
    "Hill-Climbing works by iteratively tweaking a solution to search for better neighbouring solutions. `metapy` provides two relatively straightforward tweak operators. `SimpleTweak` swaps the position of two cities at a time while `TweakTwoOpt` reverses a section of the route between two cities. Generally speaking `TweakTwoOpt` will produce better solution"
   ]
  },
  {
   "cell_type": "code",
   "execution_count": 6,
   "id": "209cb01f",
   "metadata": {},
   "outputs": [
    {
     "data": {
      "text/plain": [
       "array([0, 1, 2, 3, 4, 9, 6, 7, 8, 5])"
      ]
     },
     "execution_count": 6,
     "metadata": {},
     "output_type": "execute_result"
    }
   ],
   "source": [
    "tour = np.arange(10)\n",
    "tweaker1 = SimpleTweak()\n",
    "tweaker1.tweak(tour, 5, 9)\n",
    "tour"
   ]
  },
  {
   "cell_type": "code",
   "execution_count": 8,
   "id": "b7dd5fbd",
   "metadata": {},
   "outputs": [
    {
     "data": {
      "text/plain": [
       "array([0, 3, 2, 1, 4, 5, 6, 7, 8, 9])"
      ]
     },
     "execution_count": 8,
     "metadata": {},
     "output_type": "execute_result"
    }
   ],
   "source": [
    "tour = np.arange(10)\n",
    "tweaker2 = TweakTwoOpt()\n",
    "tweaker2.tweak(tour, 1, 4)\n",
    "tour"
   ]
  },
  {
   "cell_type": "markdown",
   "id": "a2a5de0d",
   "metadata": {},
   "source": [
    "## Example local search"
   ]
  },
  {
   "cell_type": "code",
   "execution_count": 18,
   "id": "9ab965aa",
   "metadata": {},
   "outputs": [
    {
     "name": "stdout",
     "output_type": "stream",
     "text": [
      "\n",
      "** Hill Climber First Improvement OUTPUT ***\n",
      "best cost:\t-838.0\n",
      "best solutions:\n",
      "[63 64 55 10 47 66 53 32 11 59 51  9  4 52  5 40 42 16 20 33 61 38 60 39\n",
      " 44 24 45 26 67 43 29 19 13 27  7 25 48 54 18  1  6 31  2 41 17  3 23 14\n",
      " 56 34 68 30 69 12 28 35  0 15 50 49 57 36 46 22 37 58 21 62 65  8]\n"
     ]
    }
   ],
   "source": [
    "# Basic First Improvement Hill Climber\n",
    "\n",
    "# create a tour (full 70 cities)\n",
    "tour = np.arange(70)\n",
    "rng = np.random.default_rng(42)\n",
    "\n",
    "# random init solution (operation in place)\n",
    "rng.shuffle(tour)\n",
    "\n",
    "# create TSP objective (negate costs)\n",
    "objective = OptimisedSimpleTSPObjective(-matrix)\n",
    "\n",
    "# create Hill climbing algorithm\n",
    "solver = HillClimber(objective=objective, \n",
    "                     init_solution=tour, \n",
    "                     tweaker=TweakTwoOpt())\n",
    "\n",
    "# run the local search\n",
    "solver.solve()\n",
    "\n",
    "# output results\n",
    "print(\"\\n** Hill Climber First Improvement OUTPUT ***\")\n",
    "print(\"best cost:\\t{0}\".format(solver.best_cost))\n",
    "print(\"best solutions:\")\n",
    "print(solver.best_solutions[0])\n",
    "#fig, ax = plot_tour(solver.best_solutions[0], cities, figsize=(12,9))"
   ]
  },
  {
   "cell_type": "code",
   "execution_count": null,
   "id": "2616f477",
   "metadata": {},
   "outputs": [],
   "source": []
  }
 ],
 "metadata": {
  "kernelspec": {
   "display_name": "Python 3",
   "language": "python",
   "name": "python3"
  },
  "language_info": {
   "codemirror_mode": {
    "name": "ipython",
    "version": 3
   },
   "file_extension": ".py",
   "mimetype": "text/x-python",
   "name": "python",
   "nbconvert_exporter": "python",
   "pygments_lexer": "ipython3",
   "version": "3.8.8"
  }
 },
 "nbformat": 4,
 "nbformat_minor": 5
}
