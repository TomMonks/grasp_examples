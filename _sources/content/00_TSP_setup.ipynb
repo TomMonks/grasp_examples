{
 "cells": [
  {
   "cell_type": "markdown",
   "id": "ca376562",
   "metadata": {},
   "source": [
    "# Travel Salesman Problem\n",
    "\n",
    "> Before we get into the details of GRASP let's quickly refresh our memory on the symmetric TSP."
   ]
  },
  {
   "cell_type": "markdown",
   "id": "f9bb4dab",
   "metadata": {},
   "source": [
    "## Standard Imports"
   ]
  },
  {
   "cell_type": "code",
   "execution_count": 1,
   "id": "8795ae47",
   "metadata": {},
   "outputs": [],
   "source": [
    "import numpy as np\n",
    "import pandas as pd\n",
    "import matplotlib.pyplot as plt\n",
    "from decimal import Decimal, ROUND_HALF_UP\n",
    "import sys"
   ]
  },
  {
   "cell_type": "markdown",
   "id": "856c9f50",
   "metadata": {},
   "source": [
    "## `meta-py` imports"
   ]
  },
  {
   "cell_type": "code",
   "execution_count": 2,
   "id": "9d2a5e6e",
   "metadata": {},
   "outputs": [],
   "source": [
    "# install metapy if running in Google Colab\n",
    "if 'google.colab' in sys.modules:\n",
    "    !pip install meta-py"
   ]
  },
  {
   "cell_type": "code",
   "execution_count": 3,
   "id": "57e46022",
   "metadata": {},
   "outputs": [],
   "source": [
    "import metapy.tsp.tsp_io as io\n",
    "import metapy.tsp.euclidean as e\n",
    "from metapy.tsp.objective import OptimisedSimpleTSPObjective"
   ]
  },
  {
   "cell_type": "markdown",
   "id": "e09b95ea",
   "metadata": {},
   "source": [
    "## Utility functions\n",
    "\n",
    "* `gen_matrix()` - create travel distance matrix (truncate to int if reqiured.)\n",
    "* `plot_tour()` - basic plot of a tour."
   ]
  },
  {
   "cell_type": "code",
   "execution_count": 4,
   "id": "b405c1e4",
   "metadata": {},
   "outputs": [],
   "source": [
    "def gen_matrix(cities, as_integer=False):\n",
    "    \"\"\"\n",
    "    Creates a numpy array of euclidian distances between 2 sets of\n",
    "    cities\n",
    "    \n",
    "    Parameters:\n",
    "    ----------\n",
    "    points: numpy.array\n",
    "        coordinate pairs\n",
    "    \n",
    "    as_integers: bool, optional (default=False)\n",
    "        If true then round to nearest int\n",
    "        Behaviour: 1.5 -> 2\n",
    "                   1.2 -> 1\n",
    "                   1.8 -> 2\n",
    "                   \n",
    "    Returns:\n",
    "    -------\n",
    "        np.ndarray\n",
    "            Matrix of city to city costs\n",
    "    \n",
    "    \"\"\"\n",
    "    size = len(cities)\n",
    "    matrix = np.zeros(shape=(size, size))\n",
    "    \n",
    "    row = 0\n",
    "    col = 0\n",
    "    \n",
    "    for city1 in cities:\n",
    "        col = 0\n",
    "        for city2 in cities:\n",
    "            distance = e.euclidean_distance(city1, city2)\n",
    "            if as_integer:\n",
    "                distance = int(Decimal(distance).quantize(0, ROUND_HALF_UP))\n",
    "            matrix[row, col] = distance\n",
    "            col+=1\n",
    "        row +=1\n",
    "        \n",
    "    return matrix"
   ]
  },
  {
   "cell_type": "code",
   "execution_count": 5,
   "id": "0e1387a2",
   "metadata": {},
   "outputs": [],
   "source": [
    "def plot_tour(tour, cities, figsize=(6,4)):\n",
    "    '''\n",
    "    Plots a tour.  Each city visited is\n",
    "    labelled in order.  Red point is the initial city.\n",
    "    \n",
    "    Params:\n",
    "    ------\n",
    "    tour: np.ndarray\n",
    "        ordered vector representing tour e.g. [1, 4, 2, 3]\n",
    "        \n",
    "    cities: np.ndarray\n",
    "        matrix representing city coordinates\n",
    "        \n",
    "    figsize: tuple, optional (default = (6,3))\n",
    "        tuple of ints for figure size\n",
    "        \n",
    "    Returns\n",
    "    -------\n",
    "        tuple of matplotlib figure, and axis\n",
    "    '''\n",
    "\n",
    "    tour_length = len(tour)\n",
    "    fig, ax = plt.subplots(1, 1, figsize=figsize)\n",
    "\n",
    "    #plot points\n",
    "    ax.plot(cities[:tour_length][:, 0],\n",
    "            cities[:tour_length][:, 1],'bo')\n",
    "\n",
    "    #plot lines\n",
    "    for j in range(len(tour)-1):\n",
    "        city_1 = tour[j]\n",
    "        city_2 = tour[j+1]\n",
    "\n",
    "        #lookup coordinates\n",
    "        coords_1 = cities[city_1]\n",
    "        coords_2 = cities[city_2]\n",
    "        coords = np.vstack([coords_1, coords_2])\n",
    "\n",
    "        #plot lines\n",
    "        ax.plot(coords[:,0], coords[:,1], 'g-')\n",
    "        \n",
    "        #show order in tour\n",
    "        ax.text(coords_1[0] + 0.8, coords_1[1] + 0.8, str(j))\n",
    "\n",
    "    #add in loop back colour code in red...\n",
    "    city_1 = tour[-1]\n",
    "    city_2 = tour[0]\n",
    "\n",
    "    coords_1 = cities[city_1]\n",
    "    coords_2 = cities[city_2]\n",
    "    coords = np.vstack([coords_1, coords_2])\n",
    "    ax.text(coords_1[0] + 0.8, coords_1[1] + 0.8, str(tour_length-1))\n",
    "    ax.plot(coords[:,0], coords[:,1], 'r--')\n",
    "        \n",
    "    return fig, ax"
   ]
  },
  {
   "cell_type": "markdown",
   "id": "8aaa49f9",
   "metadata": {},
   "source": [
    "## Read in instance of the TSP and generate cost matrix\n",
    "\n",
    "We will use the **famous** st70 dataset consisting of 70 cities.\n",
    "\n",
    "> Note the original data was sourced from the fantastic [TSPLib](http://elib.zib.de/pub/mp-testdata/tsp/tsplib/tsplib.html)"
   ]
  },
  {
   "cell_type": "code",
   "execution_count": 6,
   "id": "daa3318b",
   "metadata": {},
   "outputs": [
    {
     "name": "stdout",
     "output_type": "stream",
     "text": [
      "<class 'numpy.ndarray'>\n",
      "(70, 2)\n",
      "[[64. 96.]\n",
      " [80. 39.]]\n"
     ]
    }
   ],
   "source": [
    "#load file\n",
    "file_path = 'https://raw.githubusercontent.com/TomMonks/meta-py/main/data/st70.tsp'\n",
    "\n",
    "#number of rows in the file that are meta_data\n",
    "md_rows = 6\n",
    "\n",
    "#read the coordinates\n",
    "cities = io.read_coordinates(file_path, md_rows)\n",
    "\n",
    "#should be an numpy.ndarray\n",
    "print(type(cities))\n",
    "\n",
    "# should be 70 cities\n",
    "print(cities.shape)\n",
    "\n",
    "#print first 2 coordinate pairs\n",
    "print(cities[:2])"
   ]
  },
  {
   "cell_type": "markdown",
   "id": "2254b1f0",
   "metadata": {},
   "source": [
    "**Let's genenerate a TSP cost matrix, but limit it to 5 cities so we can see it!**"
   ]
  },
  {
   "cell_type": "code",
   "execution_count": 7,
   "id": "fffb9811",
   "metadata": {},
   "outputs": [
    {
     "data": {
      "text/plain": [
       "array([[ 0., 59., 73., 55., 33.],\n",
       "       [59.,  0., 19.,  9., 43.],\n",
       "       [73., 19.,  0., 19., 49.],\n",
       "       [55.,  9., 19.,  0., 35.],\n",
       "       [33., 43., 49., 35.,  0.]])"
      ]
     },
     "execution_count": 7,
     "metadata": {},
     "output_type": "execute_result"
    }
   ],
   "source": [
    "# generate matrix \n",
    "TRUNC = 5\n",
    "trunc_cities = cities[:TRUNC]\n",
    "matrix = gen_matrix(trunc_cities, as_integer=True)\n",
    "\n",
    "matrix"
   ]
  },
  {
   "cell_type": "markdown",
   "id": "573c31e8",
   "metadata": {},
   "source": [
    "## Representing a tour"
   ]
  },
  {
   "cell_type": "code",
   "execution_count": 8,
   "id": "ec2923f2",
   "metadata": {},
   "outputs": [
    {
     "data": {
      "text/plain": [
       "array([0, 1, 2, 3, 4])"
      ]
     },
     "execution_count": 8,
     "metadata": {},
     "output_type": "execute_result"
    }
   ],
   "source": [
    "#create ordered list of cities to visit\n",
    "tour = np.arange(TRUNC)\n",
    "tour"
   ]
  },
  {
   "cell_type": "markdown",
   "id": "969d78f6",
   "metadata": {},
   "source": [
    "# Visualising a tour"
   ]
  },
  {
   "cell_type": "code",
   "execution_count": 9,
   "id": "6df5edd4",
   "metadata": {},
   "outputs": [
    {
     "data": {
      "text/plain": [
       "(<Figure size 432x288 with 1 Axes>, <AxesSubplot:>)"
      ]
     },
     "execution_count": 9,
     "metadata": {},
     "output_type": "execute_result"
    },
    {
     "data": {
      "image/png": "[encoded data removed]",
      "text/plain": [
       "<Figure size 432x288 with 1 Axes>"
      ]
     },
     "metadata": {
      "needs_background": "light"
     },
     "output_type": "display_data"
    }
   ],
   "source": [
    "plot_tour(tour, trunc_cities)"
   ]
  },
  {
   "cell_type": "markdown",
   "id": "c967a2c8",
   "metadata": {},
   "source": [
    "## Costing a tour"
   ]
  },
  {
   "cell_type": "code",
   "execution_count": 10,
   "id": "8c3a07f2",
   "metadata": {},
   "outputs": [
    {
     "data": {
      "text/plain": [
       "165.0"
      ]
     },
     "execution_count": 10,
     "metadata": {},
     "output_type": "execute_result"
    }
   ],
   "source": [
    "objective = OptimisedSimpleTSPObjective(matrix)\n",
    "objective.evaluate(tour)"
   ]
  },
  {
   "cell_type": "markdown",
   "id": "d9fa5686",
   "metadata": {},
   "source": [
    "## Full tour of all 70 cities\n",
    "\n",
    "We are working with the st70 dataset.  There is a bit of ambiguity on how costs are calculated on TSPLib, but the best known solution is reported as having a cost of **675**"
   ]
  },
  {
   "cell_type": "code",
   "execution_count": 11,
   "id": "796cb4ac",
   "metadata": {},
   "outputs": [
    {
     "data": {
      "text/plain": [
       "3410.0"
      ]
     },
     "execution_count": 11,
     "metadata": {},
     "output_type": "execute_result"
    }
   ],
   "source": [
    "matrix = gen_matrix(cities, as_integer=True)\n",
    "tour = np.arange(70)\n",
    "objective = OptimisedSimpleTSPObjective(matrix)\n",
    "objective.evaluate(tour)"
   ]
  }
 ],
 "metadata": {
  "kernelspec": {
   "display_name": "Python 3",
   "language": "python",
   "name": "python3"
  },
  "language_info": {
   "codemirror_mode": {
    "name": "ipython",
    "version": 3
   },
   "file_extension": ".py",
   "mimetype": "text/x-python",
   "name": "python",
   "nbconvert_exporter": "python",
   "pygments_lexer": "ipython3",
   "version": "3.8.8"
  }
 },
 "nbformat": 4,
 "nbformat_minor": 5
}
